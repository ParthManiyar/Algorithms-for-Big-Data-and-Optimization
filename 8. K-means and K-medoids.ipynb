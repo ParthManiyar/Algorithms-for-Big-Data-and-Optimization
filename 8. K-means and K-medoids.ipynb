{
 "cells": [
  {
   "cell_type": "code",
   "execution_count": 55,
   "metadata": {},
   "outputs": [
    {
     "name": "stdout",
     "output_type": "stream",
     "text": [
      "[[43. 38.]\n",
      " [51. 58.]\n",
      " [13. 17.]\n",
      " [48. 27.]\n",
      " [22. 29.]\n",
      " [30. 44.]\n",
      " [69. 16.]\n",
      " [14. 13.]\n",
      " [65. 42.]\n",
      " [49. 64.]\n",
      " [28. 44.]\n",
      " [10. 68.]\n",
      " [35. 59.]\n",
      " [19. 49.]\n",
      " [38. 32.]\n",
      " [36. 30.]\n",
      " [24. 24.]\n",
      " [55. 13.]\n",
      " [41. 30.]\n",
      " [48. 12.]\n",
      " [69. 45.]\n",
      " [67. 27.]\n",
      " [66. 13.]\n",
      " [37. 11.]\n",
      " [44. 16.]\n",
      " [63. 19.]\n",
      " [42. 18.]\n",
      " [31. 34.]\n",
      " [68. 66.]\n",
      " [38. 36.]\n",
      " [51. 60.]\n",
      " [10. 30.]\n",
      " [29. 26.]\n",
      " [55. 46.]\n",
      " [37. 48.]\n",
      " [51. 33.]\n",
      " [15. 31.]\n",
      " [65. 67.]\n",
      " [10. 15.]\n",
      " [47. 24.]\n",
      " [26. 66.]\n",
      " [16. 47.]\n",
      " [55. 32.]\n",
      " [21. 49.]\n",
      " [44. 28.]\n",
      " [52. 56.]\n",
      " [63. 67.]\n",
      " [20. 20.]\n",
      " [59. 65.]\n",
      " [64. 31.]]\n"
     ]
    }
   ],
   "source": [
    "#libaraies\n",
    "import numpy as np\n",
    "import math\n",
    "import matplotlib.pyplot as plt\n",
    "from statistics import median \n",
    "#randomnly creating an array o x and y corrodinate\n",
    "x = np.random.randint(10,70,(50,2))  \n",
    "# convert to np.float32 \n",
    "x = np.float32(x) \n",
    "print(x)"
   ]
  },
  {
   "cell_type": "markdown",
   "metadata": {},
   "source": [
    "![](good.jpg)"
   ]
  },
  {
   "cell_type": "code",
   "execution_count": 56,
   "metadata": {},
   "outputs": [
    {
     "data": {
      "image/png": "[encoded data removed]",
      "text/plain": [
       "<Figure size 432x288 with 1 Axes>"
      ]
     },
     "metadata": {
      "needs_background": "light"
     },
     "output_type": "display_data"
    },
    {
     "data": {
      "image/png": "[encoded data removed]",
      "text/plain": [
       "<Figure size 432x288 with 1 Axes>"
      ]
     },
     "metadata": {
      "needs_background": "light"
     },
     "output_type": "display_data"
    }
   ],
   "source": [
    "m=x.shape[0] #number of training examples\n",
    "n=x.shape[1] #number of features. Here n=2\n",
    "n_iter=1000 # number of iterations as stopping citertia \n",
    "K=3 # number of clusters\n",
    "\n",
    "centers=np.array([]).reshape(n,0)\n",
    "c = np.zeros(m)\n",
    "\n",
    "#randomly selecting 3 centers for 3 clusters intially\n",
    "for i in range(K):\n",
    "    rand=np.random.randint(0,m-1)\n",
    "    centers=np.c_[centers,x[rand]]\n",
    "    \n",
    "o={}\n",
    "for itr in range(n_iter):\n",
    "    dist=np.array([]).reshape(m,0)\n",
    "    \n",
    "    #calulating distance of all the points from all k culster\n",
    "    for k in range(K):\n",
    "        tempDist=np.sqrt(np.sum((x-centers[:,k])**2,axis=1))\n",
    "        dist=np.c_[dist,tempDist]\n",
    "     \n",
    "    #choosing culster with minimum distance for  a paticular point \n",
    "    for i in range(m):\n",
    "        c[i] = np.argmin(dist[i]) #index of minimum element in an array\n",
    "        \n",
    "    for k in range(K):\n",
    "        o[k]=np.array([]).reshape(2,0)\n",
    "     \n",
    "    #generating output array of k*m which indicates which point belong to which culster\n",
    "    for i in range(m):\n",
    "        o[c[i]]=np.c_[o[c[i]],x[i]]\n",
    "     \n",
    "    for k in range(K):\n",
    "        o[k]=o[k].T\n",
    "    \n",
    "    #finding out new mean for the culster and repating the same process again\n",
    "    for k in range(K):\n",
    "        centers[:,k]=np.mean(o[k],axis=0)\n",
    "        \n",
    " #plotting the unclustered data       \n",
    "plt.scatter(X[:,0],X[:,1],c='black',label='unclustered data')\n",
    "plt.xlabel('X')\n",
    "plt.ylabel('Y')\n",
    "plt.legend()\n",
    "plt.title('Plot of data points')\n",
    "plt.show()\n",
    "\n",
    "\n",
    "#plotting the clustered data        \n",
    "color=['red','blue','green']\n",
    "labels=['cluster1','cluster2','cluster3']\n",
    "\n",
    "for k in range(K):\n",
    "    plt.scatter(o[k][:,0],o[k][:,1],c=color[k],label=labels[k])\n",
    "    \n",
    "plt.scatter(centers[0,:],centers[1,:],s=300,c='yellow',label='Centroids')\n",
    "plt.xlabel('X')\n",
    "plt.ylabel('Y')\n",
    "plt.legend()\n",
    "plt.show()"
   ]
  },
  {
   "cell_type": "markdown",
   "metadata": {},
   "source": [
    " ###### NOTE:- K-mediods is similar to K-means, the only difference instead of mean we find the median to form the new cluster."
   ]
  },
  {
   "cell_type": "code",
   "execution_count": 57,
   "metadata": {},
   "outputs": [
    {
     "data": {
      "image/png": "[encoded data removed]",
      "text/plain": [
       "<Figure size 432x288 with 1 Axes>"
      ]
     },
     "metadata": {
      "needs_background": "light"
     },
     "output_type": "display_data"
    },
    {
     "data": {
      "image/png": "[encoded data removed]",
      "text/plain": [
       "<Figure size 432x288 with 1 Axes>"
      ]
     },
     "metadata": {
      "needs_background": "light"
     },
     "output_type": "display_data"
    }
   ],
   "source": [
    "m=x.shape[0] #number of training examples\n",
    "n=x.shape[1] #number of features. Here n=2\n",
    "n_iter=1000 # number of iterations as stopping citertia \n",
    "K=3 # number of clusters\n",
    "\n",
    "centers=np.array([]).reshape(n,0)\n",
    "c = np.zeros(m)\n",
    "\n",
    "#randomly selecting 3 centers for 3 clusters intially\n",
    "for i in range(K):\n",
    "    rand=np.random.randint(0,m-1)\n",
    "    centers=np.c_[centers,x[rand]]\n",
    "    \n",
    "o={}\n",
    "for itr in range(n_iter):\n",
    "    dist=np.array([]).reshape(m,0)\n",
    "    \n",
    "    #calulating distance of all the points from all k culster\n",
    "    for k in range(K):\n",
    "        tempDist=np.sqrt(np.sum((x-centers[:,k])**2,axis=1))\n",
    "        dist=np.c_[dist,tempDist]\n",
    "     \n",
    "    #choosing culster with minimum distance for  a paticular point \n",
    "    for i in range(m):\n",
    "        c[i] = np.argmin(dist[i]) #index of minimum element in an array\n",
    "        \n",
    "    for k in range(K):\n",
    "        o[k]=np.array([]).reshape(2,0)\n",
    "     \n",
    "    #generating output array of k*m which indicates which point belong to which culster\n",
    "    for i in range(m):\n",
    "        o[c[i]]=np.c_[o[c[i]],x[i]]\n",
    "     \n",
    "    for k in range(K):\n",
    "        o[k]=o[k].T\n",
    "    \n",
    "    #finding out new median for the culster and repating the same process again\n",
    "    for k in range(K):\n",
    "        centers[0,k]=median(o[k][:,0])\n",
    "        centers[1,k]=median(o[k][:,1])\n",
    "        \n",
    " #plotting the unclustered data       \n",
    "plt.scatter(X[:,0],X[:,1],c='black',label='unclustered data')\n",
    "plt.xlabel('X')\n",
    "plt.ylabel('Y')\n",
    "plt.legend()\n",
    "plt.title('Plot of data points')\n",
    "plt.show()\n",
    "\n",
    "\n",
    "#plotting the clustered data        \n",
    "color=['red','blue','green']\n",
    "labels=['cluster1','cluster2','cluster3']\n",
    "\n",
    "for k in range(K):\n",
    "    plt.scatter(o[k][:,0],o[k][:,1],c=color[k],label=labels[k])\n",
    "    \n",
    "plt.scatter(centers[0,:],centers[1,:],s=300,c='yellow',label='Centroids')\n",
    "plt.xlabel('X')\n",
    "plt.ylabel('Y')\n",
    "plt.legend()\n",
    "plt.show()"
   ]
  }
 ],
 "metadata": {
  "kernelspec": {
   "display_name": "Python 3",
   "language": "python",
   "name": "python3"
  },
  "language_info": {
   "codemirror_mode": {
    "name": "ipython",
    "version": 3
   },
   "file_extension": ".py",
   "mimetype": "text/x-python",
   "name": "python",
   "nbconvert_exporter": "python",
   "pygments_lexer": "ipython3",
   "version": "3.7.3"
  }
 },
 "nbformat": 4,
 "nbformat_minor": 2
}
