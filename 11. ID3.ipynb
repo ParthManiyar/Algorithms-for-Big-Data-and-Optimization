{
 "cells": [
  {
   "cell_type": "code",
   "execution_count": 62,
   "metadata": {},
   "outputs": [],
   "source": [
    "import numpy as np\n",
    "import pandas as pd\n",
    "eps = np.finfo(float).eps \n",
    "#eps is use to avoid  log(0) or 0 in the denominator\n",
    "from numpy import log2 "
   ]
  },
  {
   "cell_type": "code",
   "execution_count": 1,
   "metadata": {},
   "outputs": [],
   "source": [
    "#makeing the data set as given in the silde\n",
    "age = 'youth,youth,middle_aged,senior,senior,senior,middle_aged,youth,youth,senior,youth,middle_aged,middle_aged,senior'.split(',')\n",
    "income = 'high,high,high,medium,low,low,low,medium,low,medium,medium,medium,high,medium'.split(',')\n",
    "student = 'no,no,no,no,yes,yes,yes,no,yes,yes,yes,no,yes,no'.split(',')\n",
    "credit_rating = 'fair,excellent,fair,fair,fair,excellent,excellent,fair,fair,fair,excellent,excellent,fair,excellent'.split(',')\n",
    "buys_computer = 'no,no,yes,yes,yes,no,yes,no,yes,yes,yes,yes,yes,no'.split(',')\n"
   ]
  },
  {
   "cell_type": "code",
   "execution_count": 64,
   "metadata": {},
   "outputs": [
    {
     "data": {
      "text/html": [
       "<div>\n",
       "<style scoped>\n",
       "    .dataframe tbody tr th:only-of-type {\n",
       "        vertical-align: middle;\n",
       "    }\n",
       "\n",
       "    .dataframe tbody tr th {\n",
       "        vertical-align: top;\n",
       "    }\n",
       "\n",
       "    .dataframe thead th {\n",
       "        text-align: right;\n",
       "    }\n",
       "</style>\n",
       "<table border=\"1\" class=\"dataframe\">\n",
       "  <thead>\n",
       "    <tr style=\"text-align: right;\">\n",
       "      <th></th>\n",
       "      <th>age</th>\n",
       "      <th>income</th>\n",
       "      <th>student</th>\n",
       "      <th>credit_rating</th>\n",
       "      <th>buys_computer</th>\n",
       "    </tr>\n",
       "  </thead>\n",
       "  <tbody>\n",
       "    <tr>\n",
       "      <th>0</th>\n",
       "      <td>youth</td>\n",
       "      <td>high</td>\n",
       "      <td>no</td>\n",
       "      <td>fair</td>\n",
       "      <td>no</td>\n",
       "    </tr>\n",
       "    <tr>\n",
       "      <th>1</th>\n",
       "      <td>youth</td>\n",
       "      <td>high</td>\n",
       "      <td>no</td>\n",
       "      <td>excellent</td>\n",
       "      <td>no</td>\n",
       "    </tr>\n",
       "    <tr>\n",
       "      <th>2</th>\n",
       "      <td>middle_aged</td>\n",
       "      <td>high</td>\n",
       "      <td>no</td>\n",
       "      <td>fair</td>\n",
       "      <td>yes</td>\n",
       "    </tr>\n",
       "    <tr>\n",
       "      <th>3</th>\n",
       "      <td>senior</td>\n",
       "      <td>medium</td>\n",
       "      <td>no</td>\n",
       "      <td>fair</td>\n",
       "      <td>yes</td>\n",
       "    </tr>\n",
       "    <tr>\n",
       "      <th>4</th>\n",
       "      <td>senior</td>\n",
       "      <td>low</td>\n",
       "      <td>yes</td>\n",
       "      <td>fair</td>\n",
       "      <td>yes</td>\n",
       "    </tr>\n",
       "    <tr>\n",
       "      <th>5</th>\n",
       "      <td>senior</td>\n",
       "      <td>low</td>\n",
       "      <td>yes</td>\n",
       "      <td>excellent</td>\n",
       "      <td>no</td>\n",
       "    </tr>\n",
       "    <tr>\n",
       "      <th>6</th>\n",
       "      <td>middle_aged</td>\n",
       "      <td>low</td>\n",
       "      <td>yes</td>\n",
       "      <td>excellent</td>\n",
       "      <td>yes</td>\n",
       "    </tr>\n",
       "    <tr>\n",
       "      <th>7</th>\n",
       "      <td>youth</td>\n",
       "      <td>medium</td>\n",
       "      <td>no</td>\n",
       "      <td>fair</td>\n",
       "      <td>no</td>\n",
       "    </tr>\n",
       "    <tr>\n",
       "      <th>8</th>\n",
       "      <td>youth</td>\n",
       "      <td>low</td>\n",
       "      <td>yes</td>\n",
       "      <td>fair</td>\n",
       "      <td>yes</td>\n",
       "    </tr>\n",
       "    <tr>\n",
       "      <th>9</th>\n",
       "      <td>senior</td>\n",
       "      <td>medium</td>\n",
       "      <td>yes</td>\n",
       "      <td>fair</td>\n",
       "      <td>yes</td>\n",
       "    </tr>\n",
       "    <tr>\n",
       "      <th>10</th>\n",
       "      <td>youth</td>\n",
       "      <td>medium</td>\n",
       "      <td>yes</td>\n",
       "      <td>excellent</td>\n",
       "      <td>yes</td>\n",
       "    </tr>\n",
       "    <tr>\n",
       "      <th>11</th>\n",
       "      <td>middle_aged</td>\n",
       "      <td>medium</td>\n",
       "      <td>no</td>\n",
       "      <td>excellent</td>\n",
       "      <td>yes</td>\n",
       "    </tr>\n",
       "    <tr>\n",
       "      <th>12</th>\n",
       "      <td>middle_aged</td>\n",
       "      <td>high</td>\n",
       "      <td>yes</td>\n",
       "      <td>fair</td>\n",
       "      <td>yes</td>\n",
       "    </tr>\n",
       "    <tr>\n",
       "      <th>13</th>\n",
       "      <td>senior</td>\n",
       "      <td>medium</td>\n",
       "      <td>no</td>\n",
       "      <td>excellent</td>\n",
       "      <td>no</td>\n",
       "    </tr>\n",
       "  </tbody>\n",
       "</table>\n",
       "</div>"
      ],
      "text/plain": [
       "            age  income student credit_rating buys_computer\n",
       "0         youth    high      no          fair            no\n",
       "1         youth    high      no     excellent            no\n",
       "2   middle_aged    high      no          fair           yes\n",
       "3        senior  medium      no          fair           yes\n",
       "4        senior     low     yes          fair           yes\n",
       "5        senior     low     yes     excellent            no\n",
       "6   middle_aged     low     yes     excellent           yes\n",
       "7         youth  medium      no          fair            no\n",
       "8         youth     low     yes          fair           yes\n",
       "9        senior  medium     yes          fair           yes\n",
       "10        youth  medium     yes     excellent           yes\n",
       "11  middle_aged  medium      no     excellent           yes\n",
       "12  middle_aged    high     yes          fair           yes\n",
       "13       senior  medium      no     excellent            no"
      ]
     },
     "execution_count": 64,
     "metadata": {},
     "output_type": "execute_result"
    }
   ],
   "source": [
    "dataset ={'age':age,'income':income,'student':student,'credit_rating':credit_rating,'buys_computer':buys_computer}\n",
    "df = pd.DataFrame(dataset,columns=['age','income','student','credit_rating','buys_computer'])\n",
    "df"
   ]
  },
  {
   "cell_type": "markdown",
   "metadata": {},
   "source": [
    "![](good_1.jpg)"
   ]
  },
  {
   "cell_type": "code",
   "execution_count": 65,
   "metadata": {},
   "outputs": [
    {
     "name": "stdout",
     "output_type": "stream",
     "text": [
      "0.9402859586706311\n"
     ]
    }
   ],
   "source": [
    "def info(df):\n",
    "    last = df.keys()[-1]  #to etract the last which is to be perdicted\n",
    "    s = 0   #assumed that we have to train on last column only\n",
    "    values = df[last].unique() #gives all the unique values in last column\n",
    "    #print(values)\n",
    "    for value in values:\n",
    "        pi = df[last].value_counts()[value]/len(df[last])\n",
    "        s += -pi*np.log2(pi)\n",
    "    return s\n",
    "print(info(df))"
   ]
  },
  {
   "cell_type": "markdown",
   "metadata": {},
   "source": [
    "![](good_2.jpg)"
   ]
  },
  {
   "cell_type": "code",
   "execution_count": 66,
   "metadata": {},
   "outputs": [
    {
     "data": {
      "text/plain": [
       "0.6935361388961914"
      ]
     },
     "execution_count": 66,
     "metadata": {},
     "output_type": "execute_result"
    }
   ],
   "source": [
    "def info_attribute(df,attribute):\n",
    "    last = df.keys()[-1] \n",
    "    target_values = df[last].unique() \n",
    "    attribute_values = df[attribute].unique()  #This gives different features in that attribute (like 'youth')\n",
    "    tot = len(df[attribute]) \n",
    "    d=0\n",
    "    for attribute_value in attribute_values:\n",
    "        dj=0\n",
    "        den = len(df[attribute][df[attribute]==attribute_value])\n",
    "        for target_value in target_values:\n",
    "            num  = len(df[attribute][df[attribute]==attribute_value][df[last]==target_value])\n",
    "            pi = num/(den+eps)\n",
    "            dj+= -pi*np.log2(pi+eps)   #This calculates entropy for one feature like 'youth'\n",
    "        d+=(den/tot)*dj  #Sums up all the entropy age\n",
    "    return d\n",
    "\n",
    "info_attribute(df,df.keys()[0])"
   ]
  },
  {
   "cell_type": "code",
   "execution_count": 67,
   "metadata": {},
   "outputs": [
    {
     "data": {
      "text/plain": [
       "'age'"
      ]
     },
     "execution_count": 67,
     "metadata": {},
     "output_type": "execute_result"
    }
   ],
   "source": [
    "#best gain of all the attribute\n",
    "def best_gain(df):\n",
    "    max=-1\n",
    "    attr=0\n",
    "    info_d = info(df)\n",
    "    for key in df.keys()[:-1]:\n",
    "        d_a = info_d-info_attribute(df,key) \n",
    "        if(d_a>max):\n",
    "            max=d_a\n",
    "            attr=key\n",
    "    return attr\n",
    "best_gain(df)"
   ]
  },
  {
   "cell_type": "code",
   "execution_count": 68,
   "metadata": {},
   "outputs": [
    {
     "data": {
      "text/plain": [
       "{'age': {'youth': {'student': {'no': 'no', 'yes': 'yes'}},\n",
       "  'middle_aged': 'yes',\n",
       "  'senior': {'credit_rating': {'fair': 'yes', 'excellent': 'no'}}}}"
      ]
     },
     "execution_count": 68,
     "metadata": {},
     "output_type": "execute_result"
    }
   ],
   "source": [
    "def buildTree(df):\n",
    "    target_attribute = df.keys()[-1]\n",
    "    \n",
    "    #Get attribute with maximum information gain\n",
    "    node = best_gain(df)\n",
    "    attvalue = df[node].unique()\n",
    "    \n",
    "    # building decision tree\n",
    "    #Create an empty dictionary to create tree    \n",
    "    tree={}\n",
    "    tree[node]={}\n",
    "    \n",
    "    #to construct a tree by calling this function recursively. \n",
    "    #In this we check if the subset is pure and stops if it is pure. \n",
    "    \n",
    "    for value in attvalue:\n",
    "        subtable = get_subtable(df,node,value)\n",
    "        \n",
    "        clvalue,counts = np.unique(subtable[target_attribute],return_counts=True)     \n",
    "        \n",
    "        if len(counts)==1:\n",
    "            tree[node][value] = clvalue[0]\n",
    "        else:\n",
    "            tree[node][value] = buildTree(subtable)\n",
    "            \n",
    "    return tree\n",
    "        \n",
    "        \n",
    "        \n",
    "buildTree(df)    "
   ]
  },
  {
   "cell_type": "code",
   "execution_count": 69,
   "metadata": {},
   "outputs": [
    {
     "name": "stdout",
     "output_type": "stream",
     "text": [
      "{'age': {'middle_aged': 'yes',\n",
      "         'senior': {'credit_rating': {'excellent': 'no', 'fair': 'yes'}},\n",
      "         'youth': {'student': {'no': 'no', 'yes': 'yes'}}}}\n"
     ]
    }
   ],
   "source": [
    "t = buildTree(df)\n",
    "import pprint\n",
    "pprint.pprint(t)"
   ]
  }
 ],
 "metadata": {
  "kernelspec": {
   "display_name": "Python 3",
   "language": "python",
   "name": "python3"
  },
  "language_info": {
   "codemirror_mode": {
    "name": "ipython",
    "version": 3
   },
   "file_extension": ".py",
   "mimetype": "text/x-python",
   "name": "python",
   "nbconvert_exporter": "python",
   "pygments_lexer": "ipython3",
   "version": "3.7.3"
  }
 },
 "nbformat": 4,
 "nbformat_minor": 2
}
